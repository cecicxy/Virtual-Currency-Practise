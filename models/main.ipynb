{
 "cells": [
  {
   "attachments": {},
   "cell_type": "markdown",
   "metadata": {},
   "source": [
    "## 导入数据"
   ]
  },
  {
   "cell_type": "code",
   "execution_count": null,
   "metadata": {},
   "outputs": [],
   "source": [
    "import sys\n",
    "## 用sys.path.append('../')把上级目录加入到环境变量中,这样才能找到上级目录的文件才能导入我们的数据获取函数\n",
    "sys.path.append('../')\n",
    "from datasets.get_candlesticks import get_dataFrame\n",
    "data = get_dataFrame('btc','usdt','1H')"
   ]
  },
  {
   "cell_type": "code",
   "execution_count": 6,
   "metadata": {},
   "outputs": [],
   "source": [
    "data.to_csv('../datasets/btcusdt.csv',index=False)"
   ]
  },
  {
   "attachments": {},
   "cell_type": "markdown",
   "metadata": {},
   "source": [
    "## 使用模型进行预测 \n"
   ]
  },
  {
   "cell_type": "code",
   "execution_count": 32,
   "metadata": {},
   "outputs": [
    {
     "name": "stdout",
     "output_type": "stream",
     "text": [
      "正克隆到 'Time-Series-Library'...\n",
      "remote: Enumerating objects: 809, done.\u001b[K\n",
      "remote: Counting objects: 100% (352/352), done.\u001b[K\n",
      "remote: Compressing objects: 100% (70/70), done.\u001b[K\n",
      "remote: Total 809 (delta 318), reused 284 (delta 282), pack-reused 457\u001b[K\n",
      "接收对象中: 100% (809/809), 11.06 MiB | 6.00 MiB/s, 完成.\n",
      "处理 delta 中: 100% (592/592), 完成.\n"
     ]
    }
   ],
   "source": [
    "!git clone https://github.com/thuml/Time-Series-Library.git"
   ]
  },
  {
   "cell_type": "code",
   "execution_count": 33,
   "metadata": {},
   "outputs": [],
   "source": [
    "import pandas as pd\n",
    "data = pd.read_csv('../datasets/btcusdt.csv',index_col='date')"
   ]
  },
  {
   "cell_type": "code",
   "execution_count": 34,
   "metadata": {},
   "outputs": [
    {
     "data": {
      "text/html": [
       "<div>\n",
       "<style scoped>\n",
       "    .dataframe tbody tr th:only-of-type {\n",
       "        vertical-align: middle;\n",
       "    }\n",
       "\n",
       "    .dataframe tbody tr th {\n",
       "        vertical-align: top;\n",
       "    }\n",
       "\n",
       "    .dataframe thead th {\n",
       "        text-align: right;\n",
       "    }\n",
       "</style>\n",
       "<table border=\"1\" class=\"dataframe\">\n",
       "  <thead>\n",
       "    <tr style=\"text-align: right;\">\n",
       "      <th></th>\n",
       "      <th>open</th>\n",
       "      <th>high</th>\n",
       "      <th>low</th>\n",
       "      <th>close</th>\n",
       "      <th>volume</th>\n",
       "      <th>currency_volume</th>\n",
       "    </tr>\n",
       "    <tr>\n",
       "      <th>date</th>\n",
       "      <th></th>\n",
       "      <th></th>\n",
       "      <th></th>\n",
       "      <th></th>\n",
       "      <th></th>\n",
       "      <th></th>\n",
       "    </tr>\n",
       "  </thead>\n",
       "  <tbody>\n",
       "    <tr>\n",
       "      <th>2023-06-09 03:00:00</th>\n",
       "      <td>26454.4</td>\n",
       "      <td>26540.7</td>\n",
       "      <td>26400.0</td>\n",
       "      <td>26479.1</td>\n",
       "      <td>10378548</td>\n",
       "      <td>10378.548</td>\n",
       "    </tr>\n",
       "    <tr>\n",
       "      <th>2023-06-09 02:00:00</th>\n",
       "      <td>26502.7</td>\n",
       "      <td>26550.0</td>\n",
       "      <td>26310.0</td>\n",
       "      <td>26454.5</td>\n",
       "      <td>11629795</td>\n",
       "      <td>11629.795</td>\n",
       "    </tr>\n",
       "    <tr>\n",
       "      <th>2023-06-09 01:00:00</th>\n",
       "      <td>26454.7</td>\n",
       "      <td>26597.9</td>\n",
       "      <td>26438.4</td>\n",
       "      <td>26502.6</td>\n",
       "      <td>8280120</td>\n",
       "      <td>8280.120</td>\n",
       "    </tr>\n",
       "    <tr>\n",
       "      <th>2023-06-09 00:00:00</th>\n",
       "      <td>26502.4</td>\n",
       "      <td>26514.3</td>\n",
       "      <td>26432.2</td>\n",
       "      <td>26455.3</td>\n",
       "      <td>7596199</td>\n",
       "      <td>7596.199</td>\n",
       "    </tr>\n",
       "    <tr>\n",
       "      <th>2023-06-08 23:00:00</th>\n",
       "      <td>26542.1</td>\n",
       "      <td>26600.0</td>\n",
       "      <td>26488.2</td>\n",
       "      <td>26502.1</td>\n",
       "      <td>4933869</td>\n",
       "      <td>4933.869</td>\n",
       "    </tr>\n",
       "  </tbody>\n",
       "</table>\n",
       "</div>"
      ],
      "text/plain": [
       "                        open     high      low    close    volume   \n",
       "date                                                                \n",
       "2023-06-09 03:00:00  26454.4  26540.7  26400.0  26479.1  10378548  \\\n",
       "2023-06-09 02:00:00  26502.7  26550.0  26310.0  26454.5  11629795   \n",
       "2023-06-09 01:00:00  26454.7  26597.9  26438.4  26502.6   8280120   \n",
       "2023-06-09 00:00:00  26502.4  26514.3  26432.2  26455.3   7596199   \n",
       "2023-06-08 23:00:00  26542.1  26600.0  26488.2  26502.1   4933869   \n",
       "\n",
       "                     currency_volume  \n",
       "date                                  \n",
       "2023-06-09 03:00:00        10378.548  \n",
       "2023-06-09 02:00:00        11629.795  \n",
       "2023-06-09 01:00:00         8280.120  \n",
       "2023-06-09 00:00:00         7596.199  \n",
       "2023-06-08 23:00:00         4933.869  "
      ]
     },
     "execution_count": 34,
     "metadata": {},
     "output_type": "execute_result"
    }
   ],
   "source": [
    "data.head()"
   ]
  },
  {
   "cell_type": "code",
   "execution_count": 36,
   "metadata": {},
   "outputs": [],
   "source": [
    "testlen= int(data.shape[0]*0.2)\n",
    "test_data = data.iloc[:testlen,:]\n",
    "train_data = data.iloc[testlen:,:]\n",
    "train_data.to_csv('Time-Series-Library/dataset/btcusdttrain.csv')"
   ]
  },
  {
   "cell_type": "code",
   "execution_count": 37,
   "metadata": {},
   "outputs": [],
   "source": [
    "test_data.to_csv('Time-Series-Library/dataset/btcusdttest.csv')"
   ]
  },
  {
   "cell_type": "code",
   "execution_count": null,
   "metadata": {},
   "outputs": [],
   "source": []
  },
  {
   "cell_type": "code",
   "execution_count": null,
   "metadata": {},
   "outputs": [],
   "source": []
  }
 ],
 "metadata": {
  "kernelspec": {
   "display_name": "torchenv",
   "language": "python",
   "name": "python3"
  },
  "language_info": {
   "codemirror_mode": {
    "name": "ipython",
    "version": 3
   },
   "file_extension": ".py",
   "mimetype": "text/x-python",
   "name": "python",
   "nbconvert_exporter": "python",
   "pygments_lexer": "ipython3",
   "version": "3.9.16"
  },
  "orig_nbformat": 4
 },
 "nbformat": 4,
 "nbformat_minor": 2
}
